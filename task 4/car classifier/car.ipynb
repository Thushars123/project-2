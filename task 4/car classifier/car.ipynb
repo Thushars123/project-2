{
 "cells": [
  {
   "cell_type": "code",
   "execution_count": 20,
   "metadata": {},
   "outputs": [
    {
     "name": "stdout",
     "output_type": "stream",
     "text": [
      "Ready to predict using model Iteration4 in project 35ab48bb-4dd4-47ce-85f4-ac7a4c6778b9\n"
     ]
    }
   ],
   "source": [
    "project_id = '35ab48bb-4dd4-47ce-85f4-ac7a4c6778b9'\n",
    "cv_key = '8dd995e24a29405a91444d875759825d'\n",
    "cv_endpoint = 'https://interntask4car-prediction.cognitiveservices.azure.com/'\n",
    "\n",
    "model_name = 'Iteration4' \n",
    "print('Ready to predict using model {} in project {}'.format(model_name, project_id))"
   ]
  },
  {
   "cell_type": "code",
   "execution_count": 22,
   "metadata": {},
   "outputs": [
    {
     "ename": "FileNotFoundError",
     "evalue": "[WinError 3] The system cannot find the path specified: 'test images'",
     "output_type": "error",
     "traceback": [
      "\u001b[1;31m---------------------------------------------------------------------------\u001b[0m",
      "\u001b[1;31mFileNotFoundError\u001b[0m                         Traceback (most recent call last)",
      "Cell \u001b[1;32mIn[22], line 9\u001b[0m\n\u001b[0;32m      7\u001b[0m \u001b[38;5;66;03m# Get the test images from the data/vision/test folder\u001b[39;00m\n\u001b[0;32m      8\u001b[0m test_folder_path \u001b[38;5;241m=\u001b[39m os\u001b[38;5;241m.\u001b[39mpath\u001b[38;5;241m.\u001b[39mjoin(\u001b[38;5;124m'\u001b[39m\u001b[38;5;124mtest images\u001b[39m\u001b[38;5;124m'\u001b[39m)\n\u001b[1;32m----> 9\u001b[0m test_images \u001b[38;5;241m=\u001b[39m \u001b[43mos\u001b[49m\u001b[38;5;241;43m.\u001b[39;49m\u001b[43mlistdir\u001b[49m\u001b[43m(\u001b[49m\u001b[43mtest_folder_path\u001b[49m\u001b[43m)\u001b[49m\n\u001b[0;32m     11\u001b[0m \u001b[38;5;66;03m# Create an instance of the prediction service\u001b[39;00m\n\u001b[0;32m     12\u001b[0m credentials \u001b[38;5;241m=\u001b[39m ApiKeyCredentials(in_headers\u001b[38;5;241m=\u001b[39m{\u001b[38;5;124m\"\u001b[39m\u001b[38;5;124mPrediction-key\u001b[39m\u001b[38;5;124m\"\u001b[39m: cv_key})\n",
      "\u001b[1;31mFileNotFoundError\u001b[0m: [WinError 3] The system cannot find the path specified: 'test images'"
     ]
    }
   ],
   "source": [
    "import matplotlib.pyplot as plt\n",
    "from PIL import Image\n",
    "import os\n",
    "from azure.cognitiveservices.vision.customvision.prediction import CustomVisionPredictionClient\n",
    "from msrest.authentication import ApiKeyCredentials\n",
    "\n",
    "# Get the test images from the data/vision/test folder\n",
    "test_folder_path = os.path.join('test image')\n",
    "test_images = os.listdir(test_folder_path)\n",
    "\n",
    "# Create an instance of the prediction service\n",
    "credentials = ApiKeyCredentials(in_headers={\"Prediction-key\": cv_key})\n",
    "custom_vision_client = CustomVisionPredictionClient(endpoint=cv_endpoint, credentials=credentials)\n",
    "\n",
    "# Create a figure to display the results\n",
    "fig = plt.figure(figsize=(16, 8))\n",
    "\n",
    "# Get the images and show the predicted classes for each one\n",
    "print('Classifying images in {} ...'.format(test_folder_path))\n",
    "for i, test_image_name in enumerate(test_images):\n",
    "    # Open the image, and use the custom vision model to classify it\n",
    "    with open(os.path.join(test_folder_path, test_image_name), \"rb\") as image_file:\n",
    "        classification = custom_vision_client.classify_image(project_id, model_name, image_file.read())\n",
    "    # The results include a prediction for each tag, in descending order of probability - get the first one\n",
    "    predicted_class = classification.predictions[0].tag_name\n",
    "    # Display the image with its predicted class\n",
    "    img = Image.open(os.path.join(test_folder_path, test_image_name))\n",
    "    sub_plot = fig.add_subplot(int(len(test_images)/3), 3, i+1)\n",
    "    sub_plot.axis('off')\n",
    "    imgplot = plt.imshow(img)\n",
    "    sub_plot.set_title(predicted_class)\n",
    "\n",
    "# Show the plot\n",
    "plt.show()\n"
   ]
  }
 ],
 "metadata": {
  "kernelspec": {
   "display_name": "Python 3",
   "language": "python",
   "name": "python3"
  },
  "language_info": {
   "codemirror_mode": {
    "name": "ipython",
    "version": 3
   },
   "file_extension": ".py",
   "mimetype": "text/x-python",
   "name": "python",
   "nbconvert_exporter": "python",
   "pygments_lexer": "ipython3",
   "version": "3.9.1"
  }
 },
 "nbformat": 4,
 "nbformat_minor": 2
}
